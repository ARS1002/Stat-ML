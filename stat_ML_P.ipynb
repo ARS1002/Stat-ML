{
  "nbformat": 4,
  "nbformat_minor": 0,
  "metadata": {
    "colab": {
      "provenance": [],
      "include_colab_link": true
    },
    "kernelspec": {
      "name": "python3",
      "display_name": "Python 3"
    },
    "language_info": {
      "name": "python"
    }
  },
  "cells": [
    {
      "cell_type": "markdown",
      "metadata": {
        "id": "view-in-github",
        "colab_type": "text"
      },
      "source": [
        "<a href=\"https://colab.research.google.com/github/ARS1002/Stat-ML-2083/blob/main/stat_ML_P.ipynb\" target=\"_parent\"><img src=\"https://colab.research.google.com/assets/colab-badge.svg\" alt=\"Open In Colab\"/></a>"
      ]
    },
    {
      "cell_type": "code",
      "source": [
        "import pandas as pd\n",
        "import numpy as np\n",
        "from sklearn import preprocessing\n",
        "df = pd.read_csv(\"/content/diamond.csv\")\n",
        "df"
      ],
      "metadata": {
        "colab": {
          "base_uri": "https://localhost:8080/",
          "height": 424
        },
        "id": "AOUk0dEpFMFI",
        "outputId": "947406cd-0b5b-4f0d-c1f9-e542226d635a"
      },
      "execution_count": 66,
      "outputs": [
        {
          "output_type": "execute_result",
          "data": {
            "text/plain": [
              "     carat        cut color clarity  depth  table  price     x     y     z\n",
              "0     0.23      Ideal     E     SI2   61.5   55.0    326  3.95  3.98  2.43\n",
              "1     0.21    Premium     E     SI1   59.8   61.0    326  3.89  3.84  2.31\n",
              "2     0.23       Good     E     VS1   56.9   65.0    327  4.05  4.07  2.31\n",
              "3     0.29    Premium     I     VS2   62.4   58.0    334  4.20  4.23  2.63\n",
              "4     0.31       Good     J     SI2   63.3   58.0    335  4.34  4.35  2.75\n",
              "..     ...        ...   ...     ...    ...    ...    ...   ...   ...   ...\n",
              "993   0.60  Very Good     D    VVS2   60.6   57.0   2897  5.48  5.51  3.33\n",
              "994   0.76    Premium     E     SI1   61.1   58.0   2897  5.91  5.85  3.59\n",
              "995   0.54      Ideal     D    VVS2   61.4   52.0   2897  5.30  5.34  3.26\n",
              "996   0.72      Ideal     E     SI1   62.5   55.0   2897  5.69  5.74  3.57\n",
              "997   0.72       Good     F     VS1   59.4   61.0   2897  5.82  5.89  3.48\n",
              "\n",
              "[998 rows x 10 columns]"
            ],
            "text/html": [
              "\n",
              "  <div id=\"df-b030695c-8962-4323-8955-af18464c9fb4\">\n",
              "    <div class=\"colab-df-container\">\n",
              "      <div>\n",
              "<style scoped>\n",
              "    .dataframe tbody tr th:only-of-type {\n",
              "        vertical-align: middle;\n",
              "    }\n",
              "\n",
              "    .dataframe tbody tr th {\n",
              "        vertical-align: top;\n",
              "    }\n",
              "\n",
              "    .dataframe thead th {\n",
              "        text-align: right;\n",
              "    }\n",
              "</style>\n",
              "<table border=\"1\" class=\"dataframe\">\n",
              "  <thead>\n",
              "    <tr style=\"text-align: right;\">\n",
              "      <th></th>\n",
              "      <th>carat</th>\n",
              "      <th>cut</th>\n",
              "      <th>color</th>\n",
              "      <th>clarity</th>\n",
              "      <th>depth</th>\n",
              "      <th>table</th>\n",
              "      <th>price</th>\n",
              "      <th>x</th>\n",
              "      <th>y</th>\n",
              "      <th>z</th>\n",
              "    </tr>\n",
              "  </thead>\n",
              "  <tbody>\n",
              "    <tr>\n",
              "      <th>0</th>\n",
              "      <td>0.23</td>\n",
              "      <td>Ideal</td>\n",
              "      <td>E</td>\n",
              "      <td>SI2</td>\n",
              "      <td>61.5</td>\n",
              "      <td>55.0</td>\n",
              "      <td>326</td>\n",
              "      <td>3.95</td>\n",
              "      <td>3.98</td>\n",
              "      <td>2.43</td>\n",
              "    </tr>\n",
              "    <tr>\n",
              "      <th>1</th>\n",
              "      <td>0.21</td>\n",
              "      <td>Premium</td>\n",
              "      <td>E</td>\n",
              "      <td>SI1</td>\n",
              "      <td>59.8</td>\n",
              "      <td>61.0</td>\n",
              "      <td>326</td>\n",
              "      <td>3.89</td>\n",
              "      <td>3.84</td>\n",
              "      <td>2.31</td>\n",
              "    </tr>\n",
              "    <tr>\n",
              "      <th>2</th>\n",
              "      <td>0.23</td>\n",
              "      <td>Good</td>\n",
              "      <td>E</td>\n",
              "      <td>VS1</td>\n",
              "      <td>56.9</td>\n",
              "      <td>65.0</td>\n",
              "      <td>327</td>\n",
              "      <td>4.05</td>\n",
              "      <td>4.07</td>\n",
              "      <td>2.31</td>\n",
              "    </tr>\n",
              "    <tr>\n",
              "      <th>3</th>\n",
              "      <td>0.29</td>\n",
              "      <td>Premium</td>\n",
              "      <td>I</td>\n",
              "      <td>VS2</td>\n",
              "      <td>62.4</td>\n",
              "      <td>58.0</td>\n",
              "      <td>334</td>\n",
              "      <td>4.20</td>\n",
              "      <td>4.23</td>\n",
              "      <td>2.63</td>\n",
              "    </tr>\n",
              "    <tr>\n",
              "      <th>4</th>\n",
              "      <td>0.31</td>\n",
              "      <td>Good</td>\n",
              "      <td>J</td>\n",
              "      <td>SI2</td>\n",
              "      <td>63.3</td>\n",
              "      <td>58.0</td>\n",
              "      <td>335</td>\n",
              "      <td>4.34</td>\n",
              "      <td>4.35</td>\n",
              "      <td>2.75</td>\n",
              "    </tr>\n",
              "    <tr>\n",
              "      <th>...</th>\n",
              "      <td>...</td>\n",
              "      <td>...</td>\n",
              "      <td>...</td>\n",
              "      <td>...</td>\n",
              "      <td>...</td>\n",
              "      <td>...</td>\n",
              "      <td>...</td>\n",
              "      <td>...</td>\n",
              "      <td>...</td>\n",
              "      <td>...</td>\n",
              "    </tr>\n",
              "    <tr>\n",
              "      <th>993</th>\n",
              "      <td>0.60</td>\n",
              "      <td>Very Good</td>\n",
              "      <td>D</td>\n",
              "      <td>VVS2</td>\n",
              "      <td>60.6</td>\n",
              "      <td>57.0</td>\n",
              "      <td>2897</td>\n",
              "      <td>5.48</td>\n",
              "      <td>5.51</td>\n",
              "      <td>3.33</td>\n",
              "    </tr>\n",
              "    <tr>\n",
              "      <th>994</th>\n",
              "      <td>0.76</td>\n",
              "      <td>Premium</td>\n",
              "      <td>E</td>\n",
              "      <td>SI1</td>\n",
              "      <td>61.1</td>\n",
              "      <td>58.0</td>\n",
              "      <td>2897</td>\n",
              "      <td>5.91</td>\n",
              "      <td>5.85</td>\n",
              "      <td>3.59</td>\n",
              "    </tr>\n",
              "    <tr>\n",
              "      <th>995</th>\n",
              "      <td>0.54</td>\n",
              "      <td>Ideal</td>\n",
              "      <td>D</td>\n",
              "      <td>VVS2</td>\n",
              "      <td>61.4</td>\n",
              "      <td>52.0</td>\n",
              "      <td>2897</td>\n",
              "      <td>5.30</td>\n",
              "      <td>5.34</td>\n",
              "      <td>3.26</td>\n",
              "    </tr>\n",
              "    <tr>\n",
              "      <th>996</th>\n",
              "      <td>0.72</td>\n",
              "      <td>Ideal</td>\n",
              "      <td>E</td>\n",
              "      <td>SI1</td>\n",
              "      <td>62.5</td>\n",
              "      <td>55.0</td>\n",
              "      <td>2897</td>\n",
              "      <td>5.69</td>\n",
              "      <td>5.74</td>\n",
              "      <td>3.57</td>\n",
              "    </tr>\n",
              "    <tr>\n",
              "      <th>997</th>\n",
              "      <td>0.72</td>\n",
              "      <td>Good</td>\n",
              "      <td>F</td>\n",
              "      <td>VS1</td>\n",
              "      <td>59.4</td>\n",
              "      <td>61.0</td>\n",
              "      <td>2897</td>\n",
              "      <td>5.82</td>\n",
              "      <td>5.89</td>\n",
              "      <td>3.48</td>\n",
              "    </tr>\n",
              "  </tbody>\n",
              "</table>\n",
              "<p>998 rows × 10 columns</p>\n",
              "</div>\n",
              "      <button class=\"colab-df-convert\" onclick=\"convertToInteractive('df-b030695c-8962-4323-8955-af18464c9fb4')\"\n",
              "              title=\"Convert this dataframe to an interactive table.\"\n",
              "              style=\"display:none;\">\n",
              "        \n",
              "  <svg xmlns=\"http://www.w3.org/2000/svg\" height=\"24px\"viewBox=\"0 0 24 24\"\n",
              "       width=\"24px\">\n",
              "    <path d=\"M0 0h24v24H0V0z\" fill=\"none\"/>\n",
              "    <path d=\"M18.56 5.44l.94 2.06.94-2.06 2.06-.94-2.06-.94-.94-2.06-.94 2.06-2.06.94zm-11 1L8.5 8.5l.94-2.06 2.06-.94-2.06-.94L8.5 2.5l-.94 2.06-2.06.94zm10 10l.94 2.06.94-2.06 2.06-.94-2.06-.94-.94-2.06-.94 2.06-2.06.94z\"/><path d=\"M17.41 7.96l-1.37-1.37c-.4-.4-.92-.59-1.43-.59-.52 0-1.04.2-1.43.59L10.3 9.45l-7.72 7.72c-.78.78-.78 2.05 0 2.83L4 21.41c.39.39.9.59 1.41.59.51 0 1.02-.2 1.41-.59l7.78-7.78 2.81-2.81c.8-.78.8-2.07 0-2.86zM5.41 20L4 18.59l7.72-7.72 1.47 1.35L5.41 20z\"/>\n",
              "  </svg>\n",
              "      </button>\n",
              "      \n",
              "  <style>\n",
              "    .colab-df-container {\n",
              "      display:flex;\n",
              "      flex-wrap:wrap;\n",
              "      gap: 12px;\n",
              "    }\n",
              "\n",
              "    .colab-df-convert {\n",
              "      background-color: #E8F0FE;\n",
              "      border: none;\n",
              "      border-radius: 50%;\n",
              "      cursor: pointer;\n",
              "      display: none;\n",
              "      fill: #1967D2;\n",
              "      height: 32px;\n",
              "      padding: 0 0 0 0;\n",
              "      width: 32px;\n",
              "    }\n",
              "\n",
              "    .colab-df-convert:hover {\n",
              "      background-color: #E2EBFA;\n",
              "      box-shadow: 0px 1px 2px rgba(60, 64, 67, 0.3), 0px 1px 3px 1px rgba(60, 64, 67, 0.15);\n",
              "      fill: #174EA6;\n",
              "    }\n",
              "\n",
              "    [theme=dark] .colab-df-convert {\n",
              "      background-color: #3B4455;\n",
              "      fill: #D2E3FC;\n",
              "    }\n",
              "\n",
              "    [theme=dark] .colab-df-convert:hover {\n",
              "      background-color: #434B5C;\n",
              "      box-shadow: 0px 1px 3px 1px rgba(0, 0, 0, 0.15);\n",
              "      filter: drop-shadow(0px 1px 2px rgba(0, 0, 0, 0.3));\n",
              "      fill: #FFFFFF;\n",
              "    }\n",
              "  </style>\n",
              "\n",
              "      <script>\n",
              "        const buttonEl =\n",
              "          document.querySelector('#df-b030695c-8962-4323-8955-af18464c9fb4 button.colab-df-convert');\n",
              "        buttonEl.style.display =\n",
              "          google.colab.kernel.accessAllowed ? 'block' : 'none';\n",
              "\n",
              "        async function convertToInteractive(key) {\n",
              "          const element = document.querySelector('#df-b030695c-8962-4323-8955-af18464c9fb4');\n",
              "          const dataTable =\n",
              "            await google.colab.kernel.invokeFunction('convertToInteractive',\n",
              "                                                     [key], {});\n",
              "          if (!dataTable) return;\n",
              "\n",
              "          const docLinkHtml = 'Like what you see? Visit the ' +\n",
              "            '<a target=\"_blank\" href=https://colab.research.google.com/notebooks/data_table.ipynb>data table notebook</a>'\n",
              "            + ' to learn more about interactive tables.';\n",
              "          element.innerHTML = '';\n",
              "          dataTable['output_type'] = 'display_data';\n",
              "          await google.colab.output.renderOutput(dataTable, element);\n",
              "          const docLink = document.createElement('div');\n",
              "          docLink.innerHTML = docLinkHtml;\n",
              "          element.appendChild(docLink);\n",
              "        }\n",
              "      </script>\n",
              "    </div>\n",
              "  </div>\n",
              "  "
            ]
          },
          "metadata": {},
          "execution_count": 66
        }
      ]
    },
    {
      "cell_type": "code",
      "source": [
        "d = pd.read_csv(\"/content/diamond.csv\")\n",
        "print(d)\n",
        "x1= d['carat']\n",
        "x2=d['cut']\n",
        "x3=d['color']\n",
        "x4=d['clarity']\n",
        "x5= d['depth']\n",
        "x6= d['table']\n",
        "x7= d['x']\n",
        "x8= d['y']\n",
        "x9= d['z']\n",
        "y1= d['price']\n",
        "import matplotlib.pyplot as plt"
      ],
      "metadata": {
        "colab": {
          "base_uri": "https://localhost:8080/"
        },
        "id": "15lbzciukq_n",
        "outputId": "eb3ddeef-6cd3-4b86-df32-6d44ed5a1c31"
      },
      "execution_count": 67,
      "outputs": [
        {
          "output_type": "stream",
          "name": "stdout",
          "text": [
            "     carat        cut color clarity  depth  table  price     x     y     z\n",
            "0     0.23      Ideal     E     SI2   61.5   55.0    326  3.95  3.98  2.43\n",
            "1     0.21    Premium     E     SI1   59.8   61.0    326  3.89  3.84  2.31\n",
            "2     0.23       Good     E     VS1   56.9   65.0    327  4.05  4.07  2.31\n",
            "3     0.29    Premium     I     VS2   62.4   58.0    334  4.20  4.23  2.63\n",
            "4     0.31       Good     J     SI2   63.3   58.0    335  4.34  4.35  2.75\n",
            "..     ...        ...   ...     ...    ...    ...    ...   ...   ...   ...\n",
            "993   0.60  Very Good     D    VVS2   60.6   57.0   2897  5.48  5.51  3.33\n",
            "994   0.76    Premium     E     SI1   61.1   58.0   2897  5.91  5.85  3.59\n",
            "995   0.54      Ideal     D    VVS2   61.4   52.0   2897  5.30  5.34  3.26\n",
            "996   0.72      Ideal     E     SI1   62.5   55.0   2897  5.69  5.74  3.57\n",
            "997   0.72       Good     F     VS1   59.4   61.0   2897  5.82  5.89  3.48\n",
            "\n",
            "[998 rows x 10 columns]\n"
          ]
        }
      ]
    },
    {
      "cell_type": "code",
      "source": [],
      "metadata": {
        "id": "Nh4WtCes1Vmo"
      },
      "execution_count": null,
      "outputs": []
    },
    {
      "cell_type": "code",
      "source": [
        "plt.plot(x1,y1)"
      ],
      "metadata": {
        "colab": {
          "base_uri": "https://localhost:8080/",
          "height": 285
        },
        "id": "zcYfBOrYlVEj",
        "outputId": "ce637d2e-baf9-456a-dea2-12d2070f1323"
      },
      "execution_count": 68,
      "outputs": [
        {
          "output_type": "execute_result",
          "data": {
            "text/plain": [
              "[<matplotlib.lines.Line2D at 0x7fa605d9c580>]"
            ]
          },
          "metadata": {},
          "execution_count": 68
        },
        {
          "output_type": "display_data",
          "data": {
            "text/plain": [
              "<Figure size 432x288 with 1 Axes>"
            ],
            "image/png": "[encoded data removed]"
          },
          "metadata": {
            "needs_background": "light"
          }
        }
      ]
    },
    {
      "cell_type": "code",
      "source": [
        "plt.plot(x2,y1)"
      ],
      "metadata": {
        "colab": {
          "base_uri": "https://localhost:8080/",
          "height": 285
        },
        "id": "-p0T4GB5lWKw",
        "outputId": "3521cef7-8b2c-4192-c0de-b2445e6f82e0"
      },
      "execution_count": 69,
      "outputs": [
        {
          "output_type": "execute_result",
          "data": {
            "text/plain": [
              "[<matplotlib.lines.Line2D at 0x7fa605d6aa30>]"
            ]
          },
          "metadata": {},
          "execution_count": 69
        },
        {
          "output_type": "display_data",
          "data": {
            "text/plain": [
              "<Figure size 432x288 with 1 Axes>"
            ],
            "image/png": "[encoded data removed]"
          },
          "metadata": {
            "needs_background": "light"
          }
        }
      ]
    },
    {
      "cell_type": "code",
      "source": [
        "plt.plot(x3,y1)"
      ],
      "metadata": {
        "colab": {
          "base_uri": "https://localhost:8080/",
          "height": 285
        },
        "id": "mD9iTz9TlXJo",
        "outputId": "4373bc80-67cc-42e3-b0ab-816b84863b4a"
      },
      "execution_count": 70,
      "outputs": [
        {
          "output_type": "execute_result",
          "data": {
            "text/plain": [
              "[<matplotlib.lines.Line2D at 0x7fa605d3b640>]"
            ]
          },
          "metadata": {},
          "execution_count": 70
        },
        {
          "output_type": "display_data",
          "data": {
            "text/plain": [
              "<Figure size 432x288 with 1 Axes>"
            ],
            "image/png": "[encoded data removed]"
          },
          "metadata": {
            "needs_background": "light"
          }
        }
      ]
    },
    {
      "cell_type": "code",
      "source": [
        "plt.plot(x4,y1)"
      ],
      "metadata": {
        "colab": {
          "base_uri": "https://localhost:8080/",
          "height": 285
        },
        "id": "ISHnwXtXlX7D",
        "outputId": "3a63d34c-a041-4f18-d0fe-3cd866d3669d"
      },
      "execution_count": 71,
      "outputs": [
        {
          "output_type": "execute_result",
          "data": {
            "text/plain": [
              "[<matplotlib.lines.Line2D at 0x7fa605d115e0>]"
            ]
          },
          "metadata": {},
          "execution_count": 71
        },
        {
          "output_type": "display_data",
          "data": {
            "text/plain": [
              "<Figure size 432x288 with 1 Axes>"
            ],
            "image/png": "[encoded data removed]"
          },
          "metadata": {
            "needs_background": "light"
          }
        }
      ]
    },
    {
      "cell_type": "code",
      "source": [
        "plt.plot(x5,y1)"
      ],
      "metadata": {
        "colab": {
          "base_uri": "https://localhost:8080/",
          "height": 285
        },
        "id": "4WfimYOJlY1U",
        "outputId": "dc4cca44-a3f5-473a-b6a1-06b873e26ddd"
      },
      "execution_count": 72,
      "outputs": [
        {
          "output_type": "execute_result",
          "data": {
            "text/plain": [
              "[<matplotlib.lines.Line2D at 0x7fa605c60880>]"
            ]
          },
          "metadata": {},
          "execution_count": 72
        },
        {
          "output_type": "display_data",
          "data": {
            "text/plain": [
              "<Figure size 432x288 with 1 Axes>"
            ],
            "image/png": "[encoded data removed]"
          },
          "metadata": {
            "needs_background": "light"
          }
        }
      ]
    },
    {
      "cell_type": "code",
      "source": [
        "plt.plot(x6,y1)"
      ],
      "metadata": {
        "colab": {
          "base_uri": "https://localhost:8080/",
          "height": 285
        },
        "id": "jE-EgffVlZlb",
        "outputId": "9f079ba4-58db-429f-b55a-9a64ac47a271"
      },
      "execution_count": 73,
      "outputs": [
        {
          "output_type": "execute_result",
          "data": {
            "text/plain": [
              "[<matplotlib.lines.Line2D at 0x7fa605c3e340>]"
            ]
          },
          "metadata": {},
          "execution_count": 73
        },
        {
          "output_type": "display_data",
          "data": {
            "text/plain": [
              "<Figure size 432x288 with 1 Axes>"
            ],
            "image/png": "[encoded data removed]"
          },
          "metadata": {
            "needs_background": "light"
          }
        }
      ]
    },
    {
      "cell_type": "code",
      "source": [
        "plt.plot(x7,y1)"
      ],
      "metadata": {
        "colab": {
          "base_uri": "https://localhost:8080/",
          "height": 285
        },
        "id": "31scGp7slaO5",
        "outputId": "cd21cfed-b256-4e3f-f2ce-ceadf43a6090"
      },
      "execution_count": 74,
      "outputs": [
        {
          "output_type": "execute_result",
          "data": {
            "text/plain": [
              "[<matplotlib.lines.Line2D at 0x7fa605c17760>]"
            ]
          },
          "metadata": {},
          "execution_count": 74
        },
        {
          "output_type": "display_data",
          "data": {
            "text/plain": [
              "<Figure size 432x288 with 1 Axes>"
            ],
            "image/png": "[encoded data removed]"
          },
          "metadata": {
            "needs_background": "light"
          }
        }
      ]
    },
    {
      "cell_type": "code",
      "source": [
        "plt.plot(x8,y1)"
      ],
      "metadata": {
        "colab": {
          "base_uri": "https://localhost:8080/",
          "height": 285
        },
        "id": "CjE29jtRlayQ",
        "outputId": "8c8c0915-56e5-4f3a-e65f-a04a1bc09261"
      },
      "execution_count": 75,
      "outputs": [
        {
          "output_type": "execute_result",
          "data": {
            "text/plain": [
              "[<matplotlib.lines.Line2D at 0x7fa605b6f070>]"
            ]
          },
          "metadata": {},
          "execution_count": 75
        },
        {
          "output_type": "display_data",
          "data": {
            "text/plain": [
              "<Figure size 432x288 with 1 Axes>"
            ],
            "image/png": "[encoded data removed]"
          },
          "metadata": {
            "needs_background": "light"
          }
        }
      ]
    },
    {
      "cell_type": "code",
      "source": [
        "plt.plot(x9,y1)"
      ],
      "metadata": {
        "colab": {
          "base_uri": "https://localhost:8080/",
          "height": 285
        },
        "id": "YyjRV5DQlbUm",
        "outputId": "6f2371bc-9a5f-44b9-9d67-a10a09aca452"
      },
      "execution_count": 76,
      "outputs": [
        {
          "output_type": "execute_result",
          "data": {
            "text/plain": [
              "[<matplotlib.lines.Line2D at 0x7fa605b3d6a0>]"
            ]
          },
          "metadata": {},
          "execution_count": 76
        },
        {
          "output_type": "display_data",
          "data": {
            "text/plain": [
              "<Figure size 432x288 with 1 Axes>"
            ],
            "image/png": "[encoded data removed]"
          },
          "metadata": {
            "needs_background": "light"
          }
        }
      ]
    },
    {
      "cell_type": "code",
      "source": [
        "df.corr()"
      ],
      "metadata": {
        "colab": {
          "base_uri": "https://localhost:8080/",
          "height": 269
        },
        "id": "UdNQkvwfhC-J",
        "outputId": "c380827c-9d31-4790-f053-bd6680459379"
      },
      "execution_count": 77,
      "outputs": [
        {
          "output_type": "execute_result",
          "data": {
            "text/plain": [
              "          carat     depth     table     price         x         y         z\n",
              "carat  1.000000  0.096948  0.126150  0.858658  0.977627  0.972628  0.981092\n",
              "depth  0.096948  1.000000 -0.344517 -0.012289 -0.049332 -0.057460  0.212554\n",
              "table  0.126150 -0.344517  1.000000  0.067773  0.131985  0.112049  0.030990\n",
              "price  0.858658 -0.012289  0.067773  1.000000  0.911742  0.917753  0.893257\n",
              "x      0.977627 -0.049332  0.131985  0.911742  1.000000  0.996216  0.964161\n",
              "y      0.972628 -0.057460  0.112049  0.917753  0.996216  1.000000  0.961905\n",
              "z      0.981092  0.212554  0.030990  0.893257  0.964161  0.961905  1.000000"
            ],
            "text/html": [
              "\n",
              "  <div id=\"df-4d15879a-bc67-4bb8-962a-f132b4442a64\">\n",
              "    <div class=\"colab-df-container\">\n",
              "      <div>\n",
              "<style scoped>\n",
              "    .dataframe tbody tr th:only-of-type {\n",
              "        vertical-align: middle;\n",
              "    }\n",
              "\n",
              "    .dataframe tbody tr th {\n",
              "        vertical-align: top;\n",
              "    }\n",
              "\n",
              "    .dataframe thead th {\n",
              "        text-align: right;\n",
              "    }\n",
              "</style>\n",
              "<table border=\"1\" class=\"dataframe\">\n",
              "  <thead>\n",
              "    <tr style=\"text-align: right;\">\n",
              "      <th></th>\n",
              "      <th>carat</th>\n",
              "      <th>depth</th>\n",
              "      <th>table</th>\n",
              "      <th>price</th>\n",
              "      <th>x</th>\n",
              "      <th>y</th>\n",
              "      <th>z</th>\n",
              "    </tr>\n",
              "  </thead>\n",
              "  <tbody>\n",
              "    <tr>\n",
              "      <th>carat</th>\n",
              "      <td>1.000000</td>\n",
              "      <td>0.096948</td>\n",
              "      <td>0.126150</td>\n",
              "      <td>0.858658</td>\n",
              "      <td>0.977627</td>\n",
              "      <td>0.972628</td>\n",
              "      <td>0.981092</td>\n",
              "    </tr>\n",
              "    <tr>\n",
              "      <th>depth</th>\n",
              "      <td>0.096948</td>\n",
              "      <td>1.000000</td>\n",
              "      <td>-0.344517</td>\n",
              "      <td>-0.012289</td>\n",
              "      <td>-0.049332</td>\n",
              "      <td>-0.057460</td>\n",
              "      <td>0.212554</td>\n",
              "    </tr>\n",
              "    <tr>\n",
              "      <th>table</th>\n",
              "      <td>0.126150</td>\n",
              "      <td>-0.344517</td>\n",
              "      <td>1.000000</td>\n",
              "      <td>0.067773</td>\n",
              "      <td>0.131985</td>\n",
              "      <td>0.112049</td>\n",
              "      <td>0.030990</td>\n",
              "    </tr>\n",
              "    <tr>\n",
              "      <th>price</th>\n",
              "      <td>0.858658</td>\n",
              "      <td>-0.012289</td>\n",
              "      <td>0.067773</td>\n",
              "      <td>1.000000</td>\n",
              "      <td>0.911742</td>\n",
              "      <td>0.917753</td>\n",
              "      <td>0.893257</td>\n",
              "    </tr>\n",
              "    <tr>\n",
              "      <th>x</th>\n",
              "      <td>0.977627</td>\n",
              "      <td>-0.049332</td>\n",
              "      <td>0.131985</td>\n",
              "      <td>0.911742</td>\n",
              "      <td>1.000000</td>\n",
              "      <td>0.996216</td>\n",
              "      <td>0.964161</td>\n",
              "    </tr>\n",
              "    <tr>\n",
              "      <th>y</th>\n",
              "      <td>0.972628</td>\n",
              "      <td>-0.057460</td>\n",
              "      <td>0.112049</td>\n",
              "      <td>0.917753</td>\n",
              "      <td>0.996216</td>\n",
              "      <td>1.000000</td>\n",
              "      <td>0.961905</td>\n",
              "    </tr>\n",
              "    <tr>\n",
              "      <th>z</th>\n",
              "      <td>0.981092</td>\n",
              "      <td>0.212554</td>\n",
              "      <td>0.030990</td>\n",
              "      <td>0.893257</td>\n",
              "      <td>0.964161</td>\n",
              "      <td>0.961905</td>\n",
              "      <td>1.000000</td>\n",
              "    </tr>\n",
              "  </tbody>\n",
              "</table>\n",
              "</div>\n",
              "      <button class=\"colab-df-convert\" onclick=\"convertToInteractive('df-4d15879a-bc67-4bb8-962a-f132b4442a64')\"\n",
              "              title=\"Convert this dataframe to an interactive table.\"\n",
              "              style=\"display:none;\">\n",
              "        \n",
              "  <svg xmlns=\"http://www.w3.org/2000/svg\" height=\"24px\"viewBox=\"0 0 24 24\"\n",
              "       width=\"24px\">\n",
              "    <path d=\"M0 0h24v24H0V0z\" fill=\"none\"/>\n",
              "    <path d=\"M18.56 5.44l.94 2.06.94-2.06 2.06-.94-2.06-.94-.94-2.06-.94 2.06-2.06.94zm-11 1L8.5 8.5l.94-2.06 2.06-.94-2.06-.94L8.5 2.5l-.94 2.06-2.06.94zm10 10l.94 2.06.94-2.06 2.06-.94-2.06-.94-.94-2.06-.94 2.06-2.06.94z\"/><path d=\"M17.41 7.96l-1.37-1.37c-.4-.4-.92-.59-1.43-.59-.52 0-1.04.2-1.43.59L10.3 9.45l-7.72 7.72c-.78.78-.78 2.05 0 2.83L4 21.41c.39.39.9.59 1.41.59.51 0 1.02-.2 1.41-.59l7.78-7.78 2.81-2.81c.8-.78.8-2.07 0-2.86zM5.41 20L4 18.59l7.72-7.72 1.47 1.35L5.41 20z\"/>\n",
              "  </svg>\n",
              "      </button>\n",
              "      \n",
              "  <style>\n",
              "    .colab-df-container {\n",
              "      display:flex;\n",
              "      flex-wrap:wrap;\n",
              "      gap: 12px;\n",
              "    }\n",
              "\n",
              "    .colab-df-convert {\n",
              "      background-color: #E8F0FE;\n",
              "      border: none;\n",
              "      border-radius: 50%;\n",
              "      cursor: pointer;\n",
              "      display: none;\n",
              "      fill: #1967D2;\n",
              "      height: 32px;\n",
              "      padding: 0 0 0 0;\n",
              "      width: 32px;\n",
              "    }\n",
              "\n",
              "    .colab-df-convert:hover {\n",
              "      background-color: #E2EBFA;\n",
              "      box-shadow: 0px 1px 2px rgba(60, 64, 67, 0.3), 0px 1px 3px 1px rgba(60, 64, 67, 0.15);\n",
              "      fill: #174EA6;\n",
              "    }\n",
              "\n",
              "    [theme=dark] .colab-df-convert {\n",
              "      background-color: #3B4455;\n",
              "      fill: #D2E3FC;\n",
              "    }\n",
              "\n",
              "    [theme=dark] .colab-df-convert:hover {\n",
              "      background-color: #434B5C;\n",
              "      box-shadow: 0px 1px 3px 1px rgba(0, 0, 0, 0.15);\n",
              "      filter: drop-shadow(0px 1px 2px rgba(0, 0, 0, 0.3));\n",
              "      fill: #FFFFFF;\n",
              "    }\n",
              "  </style>\n",
              "\n",
              "      <script>\n",
              "        const buttonEl =\n",
              "          document.querySelector('#df-4d15879a-bc67-4bb8-962a-f132b4442a64 button.colab-df-convert');\n",
              "        buttonEl.style.display =\n",
              "          google.colab.kernel.accessAllowed ? 'block' : 'none';\n",
              "\n",
              "        async function convertToInteractive(key) {\n",
              "          const element = document.querySelector('#df-4d15879a-bc67-4bb8-962a-f132b4442a64');\n",
              "          const dataTable =\n",
              "            await google.colab.kernel.invokeFunction('convertToInteractive',\n",
              "                                                     [key], {});\n",
              "          if (!dataTable) return;\n",
              "\n",
              "          const docLinkHtml = 'Like what you see? Visit the ' +\n",
              "            '<a target=\"_blank\" href=https://colab.research.google.com/notebooks/data_table.ipynb>data table notebook</a>'\n",
              "            + ' to learn more about interactive tables.';\n",
              "          element.innerHTML = '';\n",
              "          dataTable['output_type'] = 'display_data';\n",
              "          await google.colab.output.renderOutput(dataTable, element);\n",
              "          const docLink = document.createElement('div');\n",
              "          docLink.innerHTML = docLinkHtml;\n",
              "          element.appendChild(docLink);\n",
              "        }\n",
              "      </script>\n",
              "    </div>\n",
              "  </div>\n",
              "  "
            ]
          },
          "metadata": {},
          "execution_count": 77
        }
      ]
    },
    {
      "cell_type": "code",
      "source": [
        "print(\"Cut: \",set(df[\"cut\"]))\n",
        "print(\"Color: \",set(df[\"color\"]))\n",
        "print(\"Clarity: \",set(df[\"clarity\"]))"
      ],
      "metadata": {
        "colab": {
          "base_uri": "https://localhost:8080/"
        },
        "id": "WE1ZCLtAHQyk",
        "outputId": "4912be98-3397-4c48-ab7e-a8cbc94b0cf1"
      },
      "execution_count": 78,
      "outputs": [
        {
          "output_type": "stream",
          "name": "stdout",
          "text": [
            "Cut:  {'Good', 'Ideal', 'Very Good', 'Fair', 'Premium'}\n",
            "Color:  {'G', 'E', 'I', 'D', 'F', 'H', 'J'}\n",
            "Clarity:  {'SI2', 'VS2', 'IF', 'VVS2', 'VS1', 'SI1', 'I1', 'VVS1'}\n"
          ]
        }
      ]
    },
    {
      "cell_type": "code",
      "source": [
        "df['price/wt']=df['price']/df['carat']\n",
        "print(df.groupby('cut')['price/wt'].mean().sort_values())\n",
        "print(df.groupby('color')['price/wt'].mean().sort_values())\n",
        "print(df.groupby('clarity')['price/wt'].mean().sort_values())\n",
        "df = df.drop(['price/wt','table'], axis=1)"
      ],
      "metadata": {
        "colab": {
          "base_uri": "https://localhost:8080/"
        },
        "id": "qGQ9yAbhHXYM",
        "outputId": "97ad73d2-1cb3-45de-bbcc-1e74dc0e452d"
      },
      "execution_count": 79,
      "outputs": [
        {
          "output_type": "stream",
          "name": "stdout",
          "text": [
            "cut\n",
            "Good         3109.607485\n",
            "Fair         3144.481119\n",
            "Very Good    3405.785358\n",
            "Premium      3515.385296\n",
            "Ideal        3648.102220\n",
            "Name: price/wt, dtype: float64\n",
            "color\n",
            "J    2405.669459\n",
            "I    2638.875531\n",
            "H    3088.984310\n",
            "G    3570.860199\n",
            "E    3691.794133\n",
            "D    3784.993916\n",
            "F    3790.879072\n",
            "Name: price/wt, dtype: float64\n",
            "clarity\n",
            "I1      2603.844612\n",
            "SI2     3055.263401\n",
            "SI1     3373.418709\n",
            "VS1     3515.968113\n",
            "VS2     3654.387411\n",
            "VVS1    3891.231498\n",
            "VVS2    4031.699620\n",
            "IF      4695.619334\n",
            "Name: price/wt, dtype: float64\n"
          ]
        }
      ]
    },
    {
      "cell_type": "code",
      "source": [
        "df['cut']=df['cut'].map({'Ideal':1,'Good':2,'Very Good':3,'Fair':4,'Premium':5})\n",
        "df['color']=df['color'].map({'E':1,'D':2,'F':3,'G':4,'H':5,'I':6,'J':7})\n",
        "df['clarity']=df['clarity'].map({'VVS1':1,'IF':2,'VVS2':3,'VS1':4,'I1':5,'VS2':6,'SI1':7,'SI2':8})"
      ],
      "metadata": {
        "id": "_42_036HHfW2"
      },
      "execution_count": 80,
      "outputs": []
    },
    {
      "cell_type": "code",
      "source": [
        "X=df.drop(['price'],axis=1)\n",
        "Y=df['price']\n",
        "from sklearn.model_selection import train_test_split\n",
        "X_train,X_test,Y_train,Y_test=train_test_split(X,Y,test_size=0.3,random_state=True)\n",
        "print(X_train.shape)\n",
        "print(Y_train.shape)\n",
        "print(X_test.shape)\n",
        "print(Y_test.shape)\n",
        "print(Y_test)"
      ],
      "metadata": {
        "id": "PxsE9T_-H8F1",
        "colab": {
          "base_uri": "https://localhost:8080/"
        },
        "outputId": "913ad6a8-56ee-4887-f4f7-a26b32cab55b"
      },
      "execution_count": 81,
      "outputs": [
        {
          "output_type": "stream",
          "name": "stdout",
          "text": [
            "(698, 8)\n",
            "(698,)\n",
            "(300, 8)\n",
            "(300,)\n",
            "358    2805\n",
            "607    2839\n",
            "810    2863\n",
            "918    2879\n",
            "242    2788\n",
            "       ... \n",
            "443    2815\n",
            "414     555\n",
            "61      552\n",
            "347    2804\n",
            "349    2804\n",
            "Name: price, Length: 300, dtype: int64\n"
          ]
        }
      ]
    },
    {
      "cell_type": "code",
      "source": [
        "from sklearn import linear_model\n",
        "from sklearn.metrics import mean_squared_error,mean_absolute_error\n",
        "reg_all=linear_model.LinearRegression()\n",
        "reg_all.fit(X_train,Y_train)\n",
        "y_pred=reg_all.predict(X_test)\n",
        "Rsquare=reg_all.score(X_test,Y_test)\n",
        "print(\"Rsquare: %f\" %(Rsquare))\n",
        "coeff_df = pd.DataFrame(X_train.columns)\n",
        "coeff_df.columns = ['Variable']\n",
        "coeff_df[\"Coeff\"] = pd.Series(reg_all.coef_)\n",
        "coeff_df.sort_values(by='Coeff', ascending=True)\n",
        "print(coeff_df)\n",
        "print(\"Intercept: %f\" %(reg_all.intercept_))\n",
        "mse=mean_squared_error(Y_test,y_pred)\n",
        "print(\"mse: %f\" %(mse))\n",
        "mae = mean_absolute_error(Y_test,y_pred)\n",
        "print(\"mae: %f\" %(mae))\n",
        "rmse=np.sqrt(mean_squared_error(Y_test,y_pred))\n",
        "print(\"rmse: %f\" %(rmse))"
      ],
      "metadata": {
        "id": "3bWePNJxLKjf",
        "colab": {
          "base_uri": "https://localhost:8080/"
        },
        "outputId": "403f8548-1d24-459a-ecda-95c5b10871c7"
      },
      "execution_count": 82,
      "outputs": [
        {
          "output_type": "stream",
          "name": "stdout",
          "text": [
            "Rsquare: 0.930475\n",
            "  Variable        Coeff\n",
            "0    carat -5176.123375\n",
            "1      cut     0.475566\n",
            "2    color   -64.830688\n",
            "3  clarity   -66.280967\n",
            "4    depth  -131.788625\n",
            "5        x   241.547703\n",
            "6        y   -14.749550\n",
            "7        z  4340.192228\n",
            "Intercept: -1513.671745\n",
            "mse: 44859.031898\n",
            "mae: 146.312435\n",
            "rmse: 211.799509\n"
          ]
        }
      ]
    },
    {
      "cell_type": "code",
      "source": [
        "from sklearn.linear_model import Ridge \n",
        "from sklearn.metrics import mean_squared_error,mean_absolute_error,r2_score  \n",
        "rr= Ridge(alpha=0.01) \n",
        "rr.fit(X_train, Y_train) \n",
        "pred_train_rr= rr.predict(X_train) \n",
        "print(mean_squared_error(Y_train,pred_train_rr))\n",
        "print(mean_absolute_error(Y_train,pred_train_rr))\n",
        "print(np.sqrt(mean_squared_error(Y_train,pred_train_rr))) \n",
        "print(r2_score(Y_train, pred_train_rr))"
      ],
      "metadata": {
        "id": "ahmPngizQ1P8",
        "colab": {
          "base_uri": "https://localhost:8080/"
        },
        "outputId": "913911e5-6be8-439a-b4ce-fdef7179f0e7"
      },
      "execution_count": 83,
      "outputs": [
        {
          "output_type": "stream",
          "name": "stdout",
          "text": [
            "35074.95608534047\n",
            "137.90463541425763\n",
            "187.28309076192775\n",
            "0.9519566437985325\n"
          ]
        }
      ]
    },
    {
      "cell_type": "code",
      "source": [
        "from sklearn.metrics import mean_squared_error,r2_score\n",
        "from sklearn.linear_model import Lasso\n",
        "model_lasso= Lasso(alpha=0.01)\n",
        "model_lasso.fit(X,Y) \n",
        "pred_train_lasso= model_lasso.predict(X_test)\n",
        "print(mean_squared_error(Y_test,pred_train_lasso))\n",
        "print(mean_absolute_error(Y_train,pred_train_rr))\n",
        "print(np.sqrt(mean_squared_error(Y_train,pred_train_rr)))"
      ],
      "metadata": {
        "id": "ly6-Ipqtyoup",
        "colab": {
          "base_uri": "https://localhost:8080/"
        },
        "outputId": "e8631627-e81c-4538-94c0-8b4be95f4ffc"
      },
      "execution_count": 84,
      "outputs": [
        {
          "output_type": "stream",
          "name": "stdout",
          "text": [
            "43239.58483513411\n",
            "137.90463541425763\n",
            "187.28309076192775\n"
          ]
        },
        {
          "output_type": "stream",
          "name": "stderr",
          "text": [
            "/usr/local/lib/python3.8/dist-packages/sklearn/linear_model/_coordinate_descent.py:647: ConvergenceWarning: Objective did not converge. You might want to increase the number of iterations, check the scale of the features or consider increasing regularisation. Duality gap: 1.843e+07, tolerance: 7.038e+04\n",
            "  model = cd_fast.enet_coordinate_descent(\n"
          ]
        }
      ]
    },
    {
      "cell_type": "code",
      "source": [],
      "metadata": {
        "id": "99LN3YekGbHt"
      },
      "execution_count": 84,
      "outputs": []
    }
  ]
}