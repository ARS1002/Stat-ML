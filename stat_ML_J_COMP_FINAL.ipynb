{
  "nbformat": 4,
  "nbformat_minor": 0,
  "metadata": {
    "colab": {
      "provenance": []
    },
    "kernelspec": {
      "name": "python3",
      "display_name": "Python 3"
    },
    "language_info": {
      "name": "python"
    }
  },
  "cells": [
    {
      "cell_type": "code",
      "source": [
        "import pandas as pd\n",
        "import numpy as np\n",
        "from sklearn import preprocessing\n",
        "df = pd.read_csv(\"/content/Diamonds Prices2022.csv\")\n",
        "df"
      ],
      "metadata": {
        "colab": {
          "base_uri": "https://localhost:8080/",
          "height": 424
        },
        "id": "AOUk0dEpFMFI",
        "outputId": "69ab4260-d8f3-4f33-d247-3103bb534f86"
      },
      "execution_count": null,
      "outputs": [
        {
          "output_type": "execute_result",
          "data": {
            "text/plain": [
              "       Unnamed: 0  carat        cut color clarity  depth  table  price     x  \\\n",
              "0               1   0.23      Ideal     E     SI2   61.5   55.0    326  3.95   \n",
              "1               2   0.21    Premium     E     SI1   59.8   61.0    326  3.89   \n",
              "2               3   0.23       Good     E     VS1   56.9   65.0    327  4.05   \n",
              "3               4   0.29    Premium     I     VS2   62.4   58.0    334  4.20   \n",
              "4               5   0.31       Good     J     SI2   63.3   58.0    335  4.34   \n",
              "...           ...    ...        ...   ...     ...    ...    ...    ...   ...   \n",
              "53938       53939   0.86    Premium     H     SI2   61.0   58.0   2757  6.15   \n",
              "53939       53940   0.75      Ideal     D     SI2   62.2   55.0   2757  5.83   \n",
              "53940       53941   0.71    Premium     E     SI1   60.5   55.0   2756  5.79   \n",
              "53941       53942   0.71    Premium     F     SI1   59.8   62.0   2756  5.74   \n",
              "53942       53943   0.70  Very Good     E     VS2   60.5   59.0   2757  5.71   \n",
              "\n",
              "          y     z  \n",
              "0      3.98  2.43  \n",
              "1      3.84  2.31  \n",
              "2      4.07  2.31  \n",
              "3      4.23  2.63  \n",
              "4      4.35  2.75  \n",
              "...     ...   ...  \n",
              "53938  6.12  3.74  \n",
              "53939  5.87  3.64  \n",
              "53940  5.74  3.49  \n",
              "53941  5.73  3.43  \n",
              "53942  5.76  3.47  \n",
              "\n",
              "[53943 rows x 11 columns]"
            ],
            "text/html": [
              "\n",
              "  <div id=\"df-68d0cade-0ef5-465f-b60b-1adcfa4253f5\">\n",
              "    <div class=\"colab-df-container\">\n",
              "      <div>\n",
              "<style scoped>\n",
              "    .dataframe tbody tr th:only-of-type {\n",
              "        vertical-align: middle;\n",
              "    }\n",
              "\n",
              "    .dataframe tbody tr th {\n",
              "        vertical-align: top;\n",
              "    }\n",
              "\n",
              "    .dataframe thead th {\n",
              "        text-align: right;\n",
              "    }\n",
              "</style>\n",
              "<table border=\"1\" class=\"dataframe\">\n",
              "  <thead>\n",
              "    <tr style=\"text-align: right;\">\n",
              "      <th></th>\n",
              "      <th>Unnamed: 0</th>\n",
              "      <th>carat</th>\n",
              "      <th>cut</th>\n",
              "      <th>color</th>\n",
              "      <th>clarity</th>\n",
              "      <th>depth</th>\n",
              "      <th>table</th>\n",
              "      <th>price</th>\n",
              "      <th>x</th>\n",
              "      <th>y</th>\n",
              "      <th>z</th>\n",
              "    </tr>\n",
              "  </thead>\n",
              "  <tbody>\n",
              "    <tr>\n",
              "      <th>0</th>\n",
              "      <td>1</td>\n",
              "      <td>0.23</td>\n",
              "      <td>Ideal</td>\n",
              "      <td>E</td>\n",
              "      <td>SI2</td>\n",
              "      <td>61.5</td>\n",
              "      <td>55.0</td>\n",
              "      <td>326</td>\n",
              "      <td>3.95</td>\n",
              "      <td>3.98</td>\n",
              "      <td>2.43</td>\n",
              "    </tr>\n",
              "    <tr>\n",
              "      <th>1</th>\n",
              "      <td>2</td>\n",
              "      <td>0.21</td>\n",
              "      <td>Premium</td>\n",
              "      <td>E</td>\n",
              "      <td>SI1</td>\n",
              "      <td>59.8</td>\n",
              "      <td>61.0</td>\n",
              "      <td>326</td>\n",
              "      <td>3.89</td>\n",
              "      <td>3.84</td>\n",
              "      <td>2.31</td>\n",
              "    </tr>\n",
              "    <tr>\n",
              "      <th>2</th>\n",
              "      <td>3</td>\n",
              "      <td>0.23</td>\n",
              "      <td>Good</td>\n",
              "      <td>E</td>\n",
              "      <td>VS1</td>\n",
              "      <td>56.9</td>\n",
              "      <td>65.0</td>\n",
              "      <td>327</td>\n",
              "      <td>4.05</td>\n",
              "      <td>4.07</td>\n",
              "      <td>2.31</td>\n",
              "    </tr>\n",
              "    <tr>\n",
              "      <th>3</th>\n",
              "      <td>4</td>\n",
              "      <td>0.29</td>\n",
              "      <td>Premium</td>\n",
              "      <td>I</td>\n",
              "      <td>VS2</td>\n",
              "      <td>62.4</td>\n",
              "      <td>58.0</td>\n",
              "      <td>334</td>\n",
              "      <td>4.20</td>\n",
              "      <td>4.23</td>\n",
              "      <td>2.63</td>\n",
              "    </tr>\n",
              "    <tr>\n",
              "      <th>4</th>\n",
              "      <td>5</td>\n",
              "      <td>0.31</td>\n",
              "      <td>Good</td>\n",
              "      <td>J</td>\n",
              "      <td>SI2</td>\n",
              "      <td>63.3</td>\n",
              "      <td>58.0</td>\n",
              "      <td>335</td>\n",
              "      <td>4.34</td>\n",
              "      <td>4.35</td>\n",
              "      <td>2.75</td>\n",
              "    </tr>\n",
              "    <tr>\n",
              "      <th>...</th>\n",
              "      <td>...</td>\n",
              "      <td>...</td>\n",
              "      <td>...</td>\n",
              "      <td>...</td>\n",
              "      <td>...</td>\n",
              "      <td>...</td>\n",
              "      <td>...</td>\n",
              "      <td>...</td>\n",
              "      <td>...</td>\n",
              "      <td>...</td>\n",
              "      <td>...</td>\n",
              "    </tr>\n",
              "    <tr>\n",
              "      <th>53938</th>\n",
              "      <td>53939</td>\n",
              "      <td>0.86</td>\n",
              "      <td>Premium</td>\n",
              "      <td>H</td>\n",
              "      <td>SI2</td>\n",
              "      <td>61.0</td>\n",
              "      <td>58.0</td>\n",
              "      <td>2757</td>\n",
              "      <td>6.15</td>\n",
              "      <td>6.12</td>\n",
              "      <td>3.74</td>\n",
              "    </tr>\n",
              "    <tr>\n",
              "      <th>53939</th>\n",
              "      <td>53940</td>\n",
              "      <td>0.75</td>\n",
              "      <td>Ideal</td>\n",
              "      <td>D</td>\n",
              "      <td>SI2</td>\n",
              "      <td>62.2</td>\n",
              "      <td>55.0</td>\n",
              "      <td>2757</td>\n",
              "      <td>5.83</td>\n",
              "      <td>5.87</td>\n",
              "      <td>3.64</td>\n",
              "    </tr>\n",
              "    <tr>\n",
              "      <th>53940</th>\n",
              "      <td>53941</td>\n",
              "      <td>0.71</td>\n",
              "      <td>Premium</td>\n",
              "      <td>E</td>\n",
              "      <td>SI1</td>\n",
              "      <td>60.5</td>\n",
              "      <td>55.0</td>\n",
              "      <td>2756</td>\n",
              "      <td>5.79</td>\n",
              "      <td>5.74</td>\n",
              "      <td>3.49</td>\n",
              "    </tr>\n",
              "    <tr>\n",
              "      <th>53941</th>\n",
              "      <td>53942</td>\n",
              "      <td>0.71</td>\n",
              "      <td>Premium</td>\n",
              "      <td>F</td>\n",
              "      <td>SI1</td>\n",
              "      <td>59.8</td>\n",
              "      <td>62.0</td>\n",
              "      <td>2756</td>\n",
              "      <td>5.74</td>\n",
              "      <td>5.73</td>\n",
              "      <td>3.43</td>\n",
              "    </tr>\n",
              "    <tr>\n",
              "      <th>53942</th>\n",
              "      <td>53943</td>\n",
              "      <td>0.70</td>\n",
              "      <td>Very Good</td>\n",
              "      <td>E</td>\n",
              "      <td>VS2</td>\n",
              "      <td>60.5</td>\n",
              "      <td>59.0</td>\n",
              "      <td>2757</td>\n",
              "      <td>5.71</td>\n",
              "      <td>5.76</td>\n",
              "      <td>3.47</td>\n",
              "    </tr>\n",
              "  </tbody>\n",
              "</table>\n",
              "<p>53943 rows × 11 columns</p>\n",
              "</div>\n",
              "      <button class=\"colab-df-convert\" onclick=\"convertToInteractive('df-68d0cade-0ef5-465f-b60b-1adcfa4253f5')\"\n",
              "              title=\"Convert this dataframe to an interactive table.\"\n",
              "              style=\"display:none;\">\n",
              "        \n",
              "  <svg xmlns=\"http://www.w3.org/2000/svg\" height=\"24px\"viewBox=\"0 0 24 24\"\n",
              "       width=\"24px\">\n",
              "    <path d=\"M0 0h24v24H0V0z\" fill=\"none\"/>\n",
              "    <path d=\"M18.56 5.44l.94 2.06.94-2.06 2.06-.94-2.06-.94-.94-2.06-.94 2.06-2.06.94zm-11 1L8.5 8.5l.94-2.06 2.06-.94-2.06-.94L8.5 2.5l-.94 2.06-2.06.94zm10 10l.94 2.06.94-2.06 2.06-.94-2.06-.94-.94-2.06-.94 2.06-2.06.94z\"/><path d=\"M17.41 7.96l-1.37-1.37c-.4-.4-.92-.59-1.43-.59-.52 0-1.04.2-1.43.59L10.3 9.45l-7.72 7.72c-.78.78-.78 2.05 0 2.83L4 21.41c.39.39.9.59 1.41.59.51 0 1.02-.2 1.41-.59l7.78-7.78 2.81-2.81c.8-.78.8-2.07 0-2.86zM5.41 20L4 18.59l7.72-7.72 1.47 1.35L5.41 20z\"/>\n",
              "  </svg>\n",
              "      </button>\n",
              "      \n",
              "  <style>\n",
              "    .colab-df-container {\n",
              "      display:flex;\n",
              "      flex-wrap:wrap;\n",
              "      gap: 12px;\n",
              "    }\n",
              "\n",
              "    .colab-df-convert {\n",
              "      background-color: #E8F0FE;\n",
              "      border: none;\n",
              "      border-radius: 50%;\n",
              "      cursor: pointer;\n",
              "      display: none;\n",
              "      fill: #1967D2;\n",
              "      height: 32px;\n",
              "      padding: 0 0 0 0;\n",
              "      width: 32px;\n",
              "    }\n",
              "\n",
              "    .colab-df-convert:hover {\n",
              "      background-color: #E2EBFA;\n",
              "      box-shadow: 0px 1px 2px rgba(60, 64, 67, 0.3), 0px 1px 3px 1px rgba(60, 64, 67, 0.15);\n",
              "      fill: #174EA6;\n",
              "    }\n",
              "\n",
              "    [theme=dark] .colab-df-convert {\n",
              "      background-color: #3B4455;\n",
              "      fill: #D2E3FC;\n",
              "    }\n",
              "\n",
              "    [theme=dark] .colab-df-convert:hover {\n",
              "      background-color: #434B5C;\n",
              "      box-shadow: 0px 1px 3px 1px rgba(0, 0, 0, 0.15);\n",
              "      filter: drop-shadow(0px 1px 2px rgba(0, 0, 0, 0.3));\n",
              "      fill: #FFFFFF;\n",
              "    }\n",
              "  </style>\n",
              "\n",
              "      <script>\n",
              "        const buttonEl =\n",
              "          document.querySelector('#df-68d0cade-0ef5-465f-b60b-1adcfa4253f5 button.colab-df-convert');\n",
              "        buttonEl.style.display =\n",
              "          google.colab.kernel.accessAllowed ? 'block' : 'none';\n",
              "\n",
              "        async function convertToInteractive(key) {\n",
              "          const element = document.querySelector('#df-68d0cade-0ef5-465f-b60b-1adcfa4253f5');\n",
              "          const dataTable =\n",
              "            await google.colab.kernel.invokeFunction('convertToInteractive',\n",
              "                                                     [key], {});\n",
              "          if (!dataTable) return;\n",
              "\n",
              "          const docLinkHtml = 'Like what you see? Visit the ' +\n",
              "            '<a target=\"_blank\" href=https://colab.research.google.com/notebooks/data_table.ipynb>data table notebook</a>'\n",
              "            + ' to learn more about interactive tables.';\n",
              "          element.innerHTML = '';\n",
              "          dataTable['output_type'] = 'display_data';\n",
              "          await google.colab.output.renderOutput(dataTable, element);\n",
              "          const docLink = document.createElement('div');\n",
              "          docLink.innerHTML = docLinkHtml;\n",
              "          element.appendChild(docLink);\n",
              "        }\n",
              "      </script>\n",
              "    </div>\n",
              "  </div>\n",
              "  "
            ]
          },
          "metadata": {},
          "execution_count": 2
        }
      ]
    },
    {
      "cell_type": "code",
      "source": [
        "d = pd.read_csv(\"/content/Diamonds Prices2022.csv\")\n",
        "print(d)\n",
        "x1= d['carat']\n",
        "x2=d['cut']\n",
        "x3=d['color']\n",
        "x4=d['clarity']\n",
        "x5= d['depth']\n",
        "x6= d['table']\n",
        "x7= d['x']\n",
        "x8= d['y']\n",
        "x9= d['z']\n",
        "y1= d['price']\n",
        "import matplotlib.pyplot as plt"
      ],
      "metadata": {
        "colab": {
          "base_uri": "https://localhost:8080/"
        },
        "id": "15lbzciukq_n",
        "outputId": "96ae3c02-6e2c-4727-de59-f0d83d975a8d"
      },
      "execution_count": null,
      "outputs": [
        {
          "output_type": "stream",
          "name": "stdout",
          "text": [
            "       Unnamed: 0  carat        cut color clarity  depth  table  price     x  \\\n",
            "0               1   0.23      Ideal     E     SI2   61.5   55.0    326  3.95   \n",
            "1               2   0.21    Premium     E     SI1   59.8   61.0    326  3.89   \n",
            "2               3   0.23       Good     E     VS1   56.9   65.0    327  4.05   \n",
            "3               4   0.29    Premium     I     VS2   62.4   58.0    334  4.20   \n",
            "4               5   0.31       Good     J     SI2   63.3   58.0    335  4.34   \n",
            "...           ...    ...        ...   ...     ...    ...    ...    ...   ...   \n",
            "53938       53939   0.86    Premium     H     SI2   61.0   58.0   2757  6.15   \n",
            "53939       53940   0.75      Ideal     D     SI2   62.2   55.0   2757  5.83   \n",
            "53940       53941   0.71    Premium     E     SI1   60.5   55.0   2756  5.79   \n",
            "53941       53942   0.71    Premium     F     SI1   59.8   62.0   2756  5.74   \n",
            "53942       53943   0.70  Very Good     E     VS2   60.5   59.0   2757  5.71   \n",
            "\n",
            "          y     z  \n",
            "0      3.98  2.43  \n",
            "1      3.84  2.31  \n",
            "2      4.07  2.31  \n",
            "3      4.23  2.63  \n",
            "4      4.35  2.75  \n",
            "...     ...   ...  \n",
            "53938  6.12  3.74  \n",
            "53939  5.87  3.64  \n",
            "53940  5.74  3.49  \n",
            "53941  5.73  3.43  \n",
            "53942  5.76  3.47  \n",
            "\n",
            "[53943 rows x 11 columns]\n"
          ]
        }
      ]
    },
    {
      "cell_type": "code",
      "source": [
        "plt.plot(x1,y1)"
      ],
      "metadata": {
        "colab": {
          "base_uri": "https://localhost:8080/",
          "height": 283
        },
        "id": "zcYfBOrYlVEj",
        "outputId": "64cd5f04-bbb8-4af4-936f-f319b3ce236c"
      },
      "execution_count": null,
      "outputs": [
        {
          "output_type": "execute_result",
          "data": {
            "text/plain": [
              "[<matplotlib.lines.Line2D at 0x7f1c2bf264f0>]"
            ]
          },
          "metadata": {},
          "execution_count": 6
        },
        {
          "output_type": "display_data",
          "data": {
            "text/plain": [
              "<Figure size 432x288 with 1 Axes>"
            ],
            "image/png": "[encoded data removed]"
          },
          "metadata": {
            "needs_background": "light"
          }
        }
      ]
    },
    {
      "cell_type": "code",
      "source": [
        "plt.plot(x2,y1)"
      ],
      "metadata": {
        "colab": {
          "base_uri": "https://localhost:8080/",
          "height": 283
        },
        "id": "-p0T4GB5lWKw",
        "outputId": "71a88dce-de44-4f75-efac-d0f73eaff377"
      },
      "execution_count": null,
      "outputs": [
        {
          "output_type": "execute_result",
          "data": {
            "text/plain": [
              "[<matplotlib.lines.Line2D at 0x7f1c2ba74610>]"
            ]
          },
          "metadata": {},
          "execution_count": 7
        },
        {
          "output_type": "display_data",
          "data": {
            "text/plain": [
              "<Figure size 432x288 with 1 Axes>"
            ],
            "image/png": "[encoded data removed]"
          },
          "metadata": {
            "needs_background": "light"
          }
        }
      ]
    },
    {
      "cell_type": "code",
      "source": [
        "plt.plot(x3,y1)"
      ],
      "metadata": {
        "colab": {
          "base_uri": "https://localhost:8080/",
          "height": 283
        },
        "id": "mD9iTz9TlXJo",
        "outputId": "a1c19487-800a-4f9f-92d7-433ad084294c"
      },
      "execution_count": null,
      "outputs": [
        {
          "output_type": "execute_result",
          "data": {
            "text/plain": [
              "[<matplotlib.lines.Line2D at 0x7f1c2b9d3910>]"
            ]
          },
          "metadata": {},
          "execution_count": 8
        },
        {
          "output_type": "display_data",
          "data": {
            "text/plain": [
              "<Figure size 432x288 with 1 Axes>"
            ],
            "image/png": "[encoded data removed]"
          },
          "metadata": {
            "needs_background": "light"
          }
        }
      ]
    },
    {
      "cell_type": "code",
      "source": [
        "plt.plot(x4,y1)"
      ],
      "metadata": {
        "colab": {
          "base_uri": "https://localhost:8080/",
          "height": 283
        },
        "id": "ISHnwXtXlX7D",
        "outputId": "5c6b98e3-634c-4f08-8d65-0561eccf26ee"
      },
      "execution_count": null,
      "outputs": [
        {
          "output_type": "execute_result",
          "data": {
            "text/plain": [
              "[<matplotlib.lines.Line2D at 0x7f1c2b9b04f0>]"
            ]
          },
          "metadata": {},
          "execution_count": 9
        },
        {
          "output_type": "display_data",
          "data": {
            "text/plain": [
              "<Figure size 432x288 with 1 Axes>"
            ],
            "image/png": "[encoded data removed]"
          },
          "metadata": {
            "needs_background": "light"
          }
        }
      ]
    },
    {
      "cell_type": "code",
      "source": [
        "plt.plot(x5,y1)"
      ],
      "metadata": {
        "colab": {
          "base_uri": "https://localhost:8080/",
          "height": 283
        },
        "id": "4WfimYOJlY1U",
        "outputId": "657a732c-81a9-481e-8b50-b9f8bde29271"
      },
      "execution_count": null,
      "outputs": [
        {
          "output_type": "execute_result",
          "data": {
            "text/plain": [
              "[<matplotlib.lines.Line2D at 0x7f1c2b90c400>]"
            ]
          },
          "metadata": {},
          "execution_count": 10
        },
        {
          "output_type": "display_data",
          "data": {
            "text/plain": [
              "<Figure size 432x288 with 1 Axes>"
            ],
            "image/png": "[encoded data removed]"
          },
          "metadata": {
            "needs_background": "light"
          }
        }
      ]
    },
    {
      "cell_type": "code",
      "source": [
        "plt.plot(x6,y1)"
      ],
      "metadata": {
        "colab": {
          "base_uri": "https://localhost:8080/",
          "height": 283
        },
        "id": "jE-EgffVlZlb",
        "outputId": "81612e41-1df9-4981-a054-f3b22a05f757"
      },
      "execution_count": null,
      "outputs": [
        {
          "output_type": "execute_result",
          "data": {
            "text/plain": [
              "[<matplotlib.lines.Line2D at 0x7f1c2ba03c40>]"
            ]
          },
          "metadata": {},
          "execution_count": 11
        },
        {
          "output_type": "display_data",
          "data": {
            "text/plain": [
              "<Figure size 432x288 with 1 Axes>"
            ],
            "image/png": "[encoded data removed]"
          },
          "metadata": {
            "needs_background": "light"
          }
        }
      ]
    },
    {
      "cell_type": "code",
      "source": [
        "plt.plot(x7,y1)"
      ],
      "metadata": {
        "colab": {
          "base_uri": "https://localhost:8080/",
          "height": 283
        },
        "id": "31scGp7slaO5",
        "outputId": "fcf04548-72b7-40d9-dfff-baa3a73c7c23"
      },
      "execution_count": null,
      "outputs": [
        {
          "output_type": "execute_result",
          "data": {
            "text/plain": [
              "[<matplotlib.lines.Line2D at 0x7f1c2b8b7280>]"
            ]
          },
          "metadata": {},
          "execution_count": 12
        },
        {
          "output_type": "display_data",
          "data": {
            "text/plain": [
              "<Figure size 432x288 with 1 Axes>"
            ],
            "image/png": "[encoded data removed]"
          },
          "metadata": {
            "needs_background": "light"
          }
        }
      ]
    },
    {
      "cell_type": "code",
      "source": [
        "plt.plot(x8,y1)"
      ],
      "metadata": {
        "colab": {
          "base_uri": "https://localhost:8080/",
          "height": 283
        },
        "id": "CjE29jtRlayQ",
        "outputId": "0aeb2496-9983-4123-8b0f-c89983d5d959"
      },
      "execution_count": null,
      "outputs": [
        {
          "output_type": "execute_result",
          "data": {
            "text/plain": [
              "[<matplotlib.lines.Line2D at 0x7f1c2b807d00>]"
            ]
          },
          "metadata": {},
          "execution_count": 13
        },
        {
          "output_type": "display_data",
          "data": {
            "text/plain": [
              "<Figure size 432x288 with 1 Axes>"
            ],
            "image/png": "[encoded data removed]"
          },
          "metadata": {
            "needs_background": "light"
          }
        }
      ]
    },
    {
      "cell_type": "code",
      "source": [
        "plt.plot(x9,y1)"
      ],
      "metadata": {
        "colab": {
          "base_uri": "https://localhost:8080/",
          "height": 283
        },
        "id": "YyjRV5DQlbUm",
        "outputId": "785761a6-1ee3-4ff8-9f70-290fc1cadcce"
      },
      "execution_count": null,
      "outputs": [
        {
          "output_type": "execute_result",
          "data": {
            "text/plain": [
              "[<matplotlib.lines.Line2D at 0x7f1c2b7e2ca0>]"
            ]
          },
          "metadata": {},
          "execution_count": 14
        },
        {
          "output_type": "display_data",
          "data": {
            "text/plain": [
              "<Figure size 432x288 with 1 Axes>"
            ],
            "image/png": "[encoded data removed]"
          },
          "metadata": {
            "needs_background": "light"
          }
        }
      ]
    },
    {
      "cell_type": "code",
      "source": [
        "print(\"Cut: \",set(df[\"cut\"]))\n",
        "print(\"Color: \",set(df[\"color\"]))\n",
        "print(\"Clarity: \",set(df[\"clarity\"]))"
      ],
      "metadata": {
        "colab": {
          "base_uri": "https://localhost:8080/"
        },
        "id": "WE1ZCLtAHQyk",
        "outputId": "fc2cfb1f-02dd-416c-cf70-b7d24b7640af"
      },
      "execution_count": null,
      "outputs": [
        {
          "output_type": "stream",
          "name": "stdout",
          "text": [
            "Cut:  {'Ideal', 'Premium', 'Fair', 'Good', 'Very Good'}\n",
            "Color:  {'G', 'F', 'E', 'H', 'I', 'D', 'J'}\n",
            "Clarity:  {'SI2', 'VVS1', 'VS2', 'SI1', 'I1', 'IF', 'VVS2', 'VS1'}\n"
          ]
        }
      ]
    },
    {
      "cell_type": "code",
      "source": [
        "df['cut']=df['cut'].map({'Ideal':1,'Good':2,'Very Good':3,'Fair':4,'Premium':5})\n",
        "df['color']=df['color'].map({'E':1,'D':2,'F':3,'G':4,'H':5,'I':6,'J':7})\n",
        "df['clarity']=df['clarity'].map({'VVS1':1,'IF':2,'VVS2':3,'VS1':4,'I1':5,'VS2':6,'SI1':7,'SI2':8})"
      ],
      "metadata": {
        "id": "_42_036HHfW2"
      },
      "execution_count": null,
      "outputs": []
    },
    {
      "cell_type": "code",
      "source": [
        "df['price/wt']=df['price']/df['carat']\n",
        "print(df.groupby('cut')['price/wt'].mean().sort_values())\n",
        "print(df.groupby('color')['price/wt'].mean().sort_values())\n",
        "print(df.groupby('clarity')['price/wt'].mean().sort_values())\n",
        "df = df.drop(['price/wt','table'], axis=1)"
      ],
      "metadata": {
        "colab": {
          "base_uri": "https://localhost:8080/"
        },
        "id": "qGQ9yAbhHXYM",
        "outputId": "74f91d82-0f02-4f6f-fbef-53e14fa2a63f"
      },
      "execution_count": null,
      "outputs": [
        {
          "output_type": "stream",
          "name": "stdout",
          "text": [
            "cut\n",
            "4    3767.255681\n",
            "2    3860.027680\n",
            "1    3919.699825\n",
            "3    4014.122113\n",
            "5    4222.855898\n",
            "Name: price/wt, dtype: float64\n",
            "color\n",
            "1    3804.633012\n",
            "7    3825.649192\n",
            "2    3952.564280\n",
            "6    3996.402051\n",
            "5    4008.026941\n",
            "3    4134.704168\n",
            "4    4163.411524\n",
            "Name: price/wt, dtype: float64\n",
            "clarity\n",
            "5    2796.296437\n",
            "7    3849.083010\n",
            "1    3851.410558\n",
            "8    4010.853865\n",
            "6    4080.515207\n",
            "4    4155.816808\n",
            "3    4204.166013\n",
            "2    4259.931736\n",
            "Name: price/wt, dtype: float64\n"
          ]
        }
      ]
    },
    {
      "cell_type": "code",
      "source": [
        "df.corr()"
      ],
      "metadata": {
        "colab": {
          "base_uri": "https://localhost:8080/",
          "height": 363
        },
        "id": "UdNQkvwfhC-J",
        "outputId": "81bdeb67-d230-471f-9763-2568c0c99177"
      },
      "execution_count": null,
      "outputs": [
        {
          "output_type": "execute_result",
          "data": {
            "text/plain": [
              "            Unnamed: 0     carat       cut     color   clarity     depth  \\\n",
              "Unnamed: 0    1.000000 -0.377970 -0.088964 -0.098370 -0.196105 -0.034896   \n",
              "carat        -0.377970  1.000000  0.165270  0.289788  0.321041  0.028234   \n",
              "cut          -0.088964  0.165270  1.000000  0.038735  0.163706 -0.087838   \n",
              "color        -0.098370  0.289788  0.038735  1.000000 -0.021803  0.049264   \n",
              "clarity      -0.196105  0.321041  0.163706 -0.021803  1.000000  0.047426   \n",
              "depth        -0.034896  0.028234 -0.087838  0.049264  0.047426  1.000000   \n",
              "price        -0.306875  0.921591  0.112402  0.174469  0.147510 -0.010630   \n",
              "x            -0.405405  0.975093  0.169892  0.269446  0.344050 -0.025289   \n",
              "y            -0.395809  0.951721  0.152388  0.262507  0.332266 -0.029340   \n",
              "z            -0.399185  0.953387  0.148128  0.267204  0.338027  0.094927   \n",
              "\n",
              "               price         x         y         z  \n",
              "Unnamed: 0 -0.306875 -0.405405 -0.395809 -0.399185  \n",
              "carat       0.921591  0.975093  0.951721  0.953387  \n",
              "cut         0.112402  0.169892  0.152388  0.148128  \n",
              "color       0.174469  0.269446  0.262507  0.267204  \n",
              "clarity     0.147510  0.344050  0.332266  0.338027  \n",
              "depth      -0.010630 -0.025289 -0.029340  0.094927  \n",
              "price       1.000000  0.884433  0.865419  0.861249  \n",
              "x           0.884433  1.000000  0.974701  0.970771  \n",
              "y           0.865419  0.974701  1.000000  0.952005  \n",
              "z           0.861249  0.970771  0.952005  1.000000  "
            ],
            "text/html": [
              "\n",
              "  <div id=\"df-9aaaa68a-fa93-408a-9e81-b63fcce0630a\">\n",
              "    <div class=\"colab-df-container\">\n",
              "      <div>\n",
              "<style scoped>\n",
              "    .dataframe tbody tr th:only-of-type {\n",
              "        vertical-align: middle;\n",
              "    }\n",
              "\n",
              "    .dataframe tbody tr th {\n",
              "        vertical-align: top;\n",
              "    }\n",
              "\n",
              "    .dataframe thead th {\n",
              "        text-align: right;\n",
              "    }\n",
              "</style>\n",
              "<table border=\"1\" class=\"dataframe\">\n",
              "  <thead>\n",
              "    <tr style=\"text-align: right;\">\n",
              "      <th></th>\n",
              "      <th>Unnamed: 0</th>\n",
              "      <th>carat</th>\n",
              "      <th>cut</th>\n",
              "      <th>color</th>\n",
              "      <th>clarity</th>\n",
              "      <th>depth</th>\n",
              "      <th>price</th>\n",
              "      <th>x</th>\n",
              "      <th>y</th>\n",
              "      <th>z</th>\n",
              "    </tr>\n",
              "  </thead>\n",
              "  <tbody>\n",
              "    <tr>\n",
              "      <th>Unnamed: 0</th>\n",
              "      <td>1.000000</td>\n",
              "      <td>-0.377970</td>\n",
              "      <td>-0.088964</td>\n",
              "      <td>-0.098370</td>\n",
              "      <td>-0.196105</td>\n",
              "      <td>-0.034896</td>\n",
              "      <td>-0.306875</td>\n",
              "      <td>-0.405405</td>\n",
              "      <td>-0.395809</td>\n",
              "      <td>-0.399185</td>\n",
              "    </tr>\n",
              "    <tr>\n",
              "      <th>carat</th>\n",
              "      <td>-0.377970</td>\n",
              "      <td>1.000000</td>\n",
              "      <td>0.165270</td>\n",
              "      <td>0.289788</td>\n",
              "      <td>0.321041</td>\n",
              "      <td>0.028234</td>\n",
              "      <td>0.921591</td>\n",
              "      <td>0.975093</td>\n",
              "      <td>0.951721</td>\n",
              "      <td>0.953387</td>\n",
              "    </tr>\n",
              "    <tr>\n",
              "      <th>cut</th>\n",
              "      <td>-0.088964</td>\n",
              "      <td>0.165270</td>\n",
              "      <td>1.000000</td>\n",
              "      <td>0.038735</td>\n",
              "      <td>0.163706</td>\n",
              "      <td>-0.087838</td>\n",
              "      <td>0.112402</td>\n",
              "      <td>0.169892</td>\n",
              "      <td>0.152388</td>\n",
              "      <td>0.148128</td>\n",
              "    </tr>\n",
              "    <tr>\n",
              "      <th>color</th>\n",
              "      <td>-0.098370</td>\n",
              "      <td>0.289788</td>\n",
              "      <td>0.038735</td>\n",
              "      <td>1.000000</td>\n",
              "      <td>-0.021803</td>\n",
              "      <td>0.049264</td>\n",
              "      <td>0.174469</td>\n",
              "      <td>0.269446</td>\n",
              "      <td>0.262507</td>\n",
              "      <td>0.267204</td>\n",
              "    </tr>\n",
              "    <tr>\n",
              "      <th>clarity</th>\n",
              "      <td>-0.196105</td>\n",
              "      <td>0.321041</td>\n",
              "      <td>0.163706</td>\n",
              "      <td>-0.021803</td>\n",
              "      <td>1.000000</td>\n",
              "      <td>0.047426</td>\n",
              "      <td>0.147510</td>\n",
              "      <td>0.344050</td>\n",
              "      <td>0.332266</td>\n",
              "      <td>0.338027</td>\n",
              "    </tr>\n",
              "    <tr>\n",
              "      <th>depth</th>\n",
              "      <td>-0.034896</td>\n",
              "      <td>0.028234</td>\n",
              "      <td>-0.087838</td>\n",
              "      <td>0.049264</td>\n",
              "      <td>0.047426</td>\n",
              "      <td>1.000000</td>\n",
              "      <td>-0.010630</td>\n",
              "      <td>-0.025289</td>\n",
              "      <td>-0.029340</td>\n",
              "      <td>0.094927</td>\n",
              "    </tr>\n",
              "    <tr>\n",
              "      <th>price</th>\n",
              "      <td>-0.306875</td>\n",
              "      <td>0.921591</td>\n",
              "      <td>0.112402</td>\n",
              "      <td>0.174469</td>\n",
              "      <td>0.147510</td>\n",
              "      <td>-0.010630</td>\n",
              "      <td>1.000000</td>\n",
              "      <td>0.884433</td>\n",
              "      <td>0.865419</td>\n",
              "      <td>0.861249</td>\n",
              "    </tr>\n",
              "    <tr>\n",
              "      <th>x</th>\n",
              "      <td>-0.405405</td>\n",
              "      <td>0.975093</td>\n",
              "      <td>0.169892</td>\n",
              "      <td>0.269446</td>\n",
              "      <td>0.344050</td>\n",
              "      <td>-0.025289</td>\n",
              "      <td>0.884433</td>\n",
              "      <td>1.000000</td>\n",
              "      <td>0.974701</td>\n",
              "      <td>0.970771</td>\n",
              "    </tr>\n",
              "    <tr>\n",
              "      <th>y</th>\n",
              "      <td>-0.395809</td>\n",
              "      <td>0.951721</td>\n",
              "      <td>0.152388</td>\n",
              "      <td>0.262507</td>\n",
              "      <td>0.332266</td>\n",
              "      <td>-0.029340</td>\n",
              "      <td>0.865419</td>\n",
              "      <td>0.974701</td>\n",
              "      <td>1.000000</td>\n",
              "      <td>0.952005</td>\n",
              "    </tr>\n",
              "    <tr>\n",
              "      <th>z</th>\n",
              "      <td>-0.399185</td>\n",
              "      <td>0.953387</td>\n",
              "      <td>0.148128</td>\n",
              "      <td>0.267204</td>\n",
              "      <td>0.338027</td>\n",
              "      <td>0.094927</td>\n",
              "      <td>0.861249</td>\n",
              "      <td>0.970771</td>\n",
              "      <td>0.952005</td>\n",
              "      <td>1.000000</td>\n",
              "    </tr>\n",
              "  </tbody>\n",
              "</table>\n",
              "</div>\n",
              "      <button class=\"colab-df-convert\" onclick=\"convertToInteractive('df-9aaaa68a-fa93-408a-9e81-b63fcce0630a')\"\n",
              "              title=\"Convert this dataframe to an interactive table.\"\n",
              "              style=\"display:none;\">\n",
              "        \n",
              "  <svg xmlns=\"http://www.w3.org/2000/svg\" height=\"24px\"viewBox=\"0 0 24 24\"\n",
              "       width=\"24px\">\n",
              "    <path d=\"M0 0h24v24H0V0z\" fill=\"none\"/>\n",
              "    <path d=\"M18.56 5.44l.94 2.06.94-2.06 2.06-.94-2.06-.94-.94-2.06-.94 2.06-2.06.94zm-11 1L8.5 8.5l.94-2.06 2.06-.94-2.06-.94L8.5 2.5l-.94 2.06-2.06.94zm10 10l.94 2.06.94-2.06 2.06-.94-2.06-.94-.94-2.06-.94 2.06-2.06.94z\"/><path d=\"M17.41 7.96l-1.37-1.37c-.4-.4-.92-.59-1.43-.59-.52 0-1.04.2-1.43.59L10.3 9.45l-7.72 7.72c-.78.78-.78 2.05 0 2.83L4 21.41c.39.39.9.59 1.41.59.51 0 1.02-.2 1.41-.59l7.78-7.78 2.81-2.81c.8-.78.8-2.07 0-2.86zM5.41 20L4 18.59l7.72-7.72 1.47 1.35L5.41 20z\"/>\n",
              "  </svg>\n",
              "      </button>\n",
              "      \n",
              "  <style>\n",
              "    .colab-df-container {\n",
              "      display:flex;\n",
              "      flex-wrap:wrap;\n",
              "      gap: 12px;\n",
              "    }\n",
              "\n",
              "    .colab-df-convert {\n",
              "      background-color: #E8F0FE;\n",
              "      border: none;\n",
              "      border-radius: 50%;\n",
              "      cursor: pointer;\n",
              "      display: none;\n",
              "      fill: #1967D2;\n",
              "      height: 32px;\n",
              "      padding: 0 0 0 0;\n",
              "      width: 32px;\n",
              "    }\n",
              "\n",
              "    .colab-df-convert:hover {\n",
              "      background-color: #E2EBFA;\n",
              "      box-shadow: 0px 1px 2px rgba(60, 64, 67, 0.3), 0px 1px 3px 1px rgba(60, 64, 67, 0.15);\n",
              "      fill: #174EA6;\n",
              "    }\n",
              "\n",
              "    [theme=dark] .colab-df-convert {\n",
              "      background-color: #3B4455;\n",
              "      fill: #D2E3FC;\n",
              "    }\n",
              "\n",
              "    [theme=dark] .colab-df-convert:hover {\n",
              "      background-color: #434B5C;\n",
              "      box-shadow: 0px 1px 3px 1px rgba(0, 0, 0, 0.15);\n",
              "      filter: drop-shadow(0px 1px 2px rgba(0, 0, 0, 0.3));\n",
              "      fill: #FFFFFF;\n",
              "    }\n",
              "  </style>\n",
              "\n",
              "      <script>\n",
              "        const buttonEl =\n",
              "          document.querySelector('#df-9aaaa68a-fa93-408a-9e81-b63fcce0630a button.colab-df-convert');\n",
              "        buttonEl.style.display =\n",
              "          google.colab.kernel.accessAllowed ? 'block' : 'none';\n",
              "\n",
              "        async function convertToInteractive(key) {\n",
              "          const element = document.querySelector('#df-9aaaa68a-fa93-408a-9e81-b63fcce0630a');\n",
              "          const dataTable =\n",
              "            await google.colab.kernel.invokeFunction('convertToInteractive',\n",
              "                                                     [key], {});\n",
              "          if (!dataTable) return;\n",
              "\n",
              "          const docLinkHtml = 'Like what you see? Visit the ' +\n",
              "            '<a target=\"_blank\" href=https://colab.research.google.com/notebooks/data_table.ipynb>data table notebook</a>'\n",
              "            + ' to learn more about interactive tables.';\n",
              "          element.innerHTML = '';\n",
              "          dataTable['output_type'] = 'display_data';\n",
              "          await google.colab.output.renderOutput(dataTable, element);\n",
              "          const docLink = document.createElement('div');\n",
              "          docLink.innerHTML = docLinkHtml;\n",
              "          element.appendChild(docLink);\n",
              "        }\n",
              "      </script>\n",
              "    </div>\n",
              "  </div>\n",
              "  "
            ]
          },
          "metadata": {},
          "execution_count": 20
        }
      ]
    },
    {
      "cell_type": "code",
      "source": [
        "X=df.drop(['price'],axis=1)\n",
        "Y=df['price']\n",
        "from sklearn.model_selection import train_test_split\n",
        "X_train,X_test,Y_train,Y_test=train_test_split(X,Y,test_size=0.3,random_state=True)\n",
        "print(X_train.shape)\n",
        "print(Y_train.shape)\n",
        "print(X_test.shape)\n",
        "print(Y_test.shape)\n",
        "print(Y_test)"
      ],
      "metadata": {
        "id": "PxsE9T_-H8F1",
        "colab": {
          "base_uri": "https://localhost:8080/"
        },
        "outputId": "70565c2c-ba4e-4515-8d40-6fd36303f0cc"
      },
      "execution_count": null,
      "outputs": [
        {
          "output_type": "stream",
          "name": "stdout",
          "text": [
            "(37760, 9)\n",
            "(37760,)\n",
            "(16183, 9)\n",
            "(16183,)\n",
            "35774      912\n",
            "24679    13037\n",
            "38804     1046\n",
            "17964     7260\n",
            "36079      925\n",
            "         ...  \n",
            "51723     2401\n",
            "25945    15110\n",
            "44188     1569\n",
            "24132    12304\n",
            "47538     1871\n",
            "Name: price, Length: 16183, dtype: int64\n"
          ]
        }
      ]
    },
    {
      "cell_type": "code",
      "source": [
        "from sklearn import linear_model\n",
        "from sklearn.metrics import mean_squared_error,mean_absolute_error\n",
        "reg_all=linear_model.LinearRegression()\n",
        "reg_all.fit(X_train,Y_train)\n",
        "y_pred=reg_all.predict(X_test)\n",
        "Rsquare=reg_all.score(X_test,Y_test)\n",
        "print(\"Rsquare: %f\" %(Rsquare))\n",
        "coeff_df = pd.DataFrame(X_train.columns)\n",
        "coeff_df.columns = ['Variable']\n",
        "coeff_df[\"Coeff\"] = pd.Series(reg_all.coef_)\n",
        "coeff_df.sort_values(by='Coeff', ascending=True)\n",
        "print(coeff_df)\n",
        "print(\"Intercept: %f\" %(reg_all.intercept_))\n",
        "mse=mean_squared_error(Y_test,y_pred)\n",
        "print(\"mse: %f\" %(mse))\n",
        "mae = mean_absolute_error(Y_test,y_pred)\n",
        "print(\"mae: %f\" %(mae))\n",
        "rmse=np.sqrt(mean_squared_error(Y_test,y_pred))\n",
        "print(\"rmse: %f\" %(rmse))"
      ],
      "metadata": {
        "id": "3bWePNJxLKjf",
        "colab": {
          "base_uri": "https://localhost:8080/"
        },
        "outputId": "4eb6e539-26a3-4763-b25b-35a88ba7d293"
      },
      "execution_count": null,
      "outputs": [
        {
          "output_type": "stream",
          "name": "stdout",
          "text": [
            "Rsquare: 0.895007\n",
            "     Variable         Coeff\n",
            "0  Unnamed: 0      0.005924\n",
            "1       carat  10333.671583\n",
            "2         cut    -59.741631\n",
            "3       color   -279.433603\n",
            "4     clarity   -318.941388\n",
            "5       depth   -102.128018\n",
            "6           x   -776.640230\n",
            "7           y     30.322391\n",
            "8           z      2.559519\n",
            "Intercept: 9011.688882\n",
            "mse: 1628731.131790\n",
            "mae: 827.910815\n",
            "rmse: 1276.217510\n"
          ]
        }
      ]
    },
    {
      "cell_type": "code",
      "source": [
        "from sklearn.linear_model import Ridge \n",
        "from sklearn.metrics import mean_squared_error,mean_absolute_error,r2_score  \n",
        "rr= Ridge(alpha=0.01) \n",
        "rr.fit(X_train, Y_train) \n",
        "pred_train_rr= rr.predict(X_train) \n",
        "print(mean_squared_error(Y_train,pred_train_rr))\n",
        "print(mean_absolute_error(Y_train,pred_train_rr))\n",
        "print(np.sqrt(mean_squared_error(Y_train,pred_train_rr))) \n",
        "print(r2_score(Y_train, pred_train_rr))"
      ],
      "metadata": {
        "id": "ahmPngizQ1P8",
        "colab": {
          "base_uri": "https://localhost:8080/"
        },
        "outputId": "f9fbb7b8-a9e7-497d-c9ff-a984311a201f"
      },
      "execution_count": null,
      "outputs": [
        {
          "output_type": "stream",
          "name": "stdout",
          "text": [
            "1751839.1651107848\n",
            "840.9093988173149\n",
            "1323.5706120607185\n",
            "0.8910998683604959\n"
          ]
        }
      ]
    },
    {
      "cell_type": "code",
      "source": [
        "from sklearn.metrics import mean_squared_error,r2_score\n",
        "from sklearn.linear_model import Lasso\n",
        "model_lasso= Lasso(alpha=0.01)\n",
        "model_lasso.fit(X,Y) \n",
        "pred_train_lasso= model_lasso.predict(X_test)\n",
        "print(mean_squared_error(Y_test,pred_train_lasso))\n",
        "print(mean_absolute_error(Y_train,pred_train_rr))\n",
        "print(np.sqrt(mean_squared_error(Y_train,pred_train_rr)))"
      ],
      "metadata": {
        "id": "ly6-Ipqtyoup",
        "colab": {
          "base_uri": "https://localhost:8080/"
        },
        "outputId": "76e11789-ce43-4c62-f180-c53813322855"
      },
      "execution_count": null,
      "outputs": [
        {
          "output_type": "stream",
          "name": "stdout",
          "text": [
            "1624816.8154205782\n",
            "840.9093988173149\n",
            "1323.5706120607185\n"
          ]
        }
      ]
    },
    {
      "cell_type": "code",
      "source": [],
      "metadata": {
        "id": "99LN3YekGbHt"
      },
      "execution_count": null,
      "outputs": []
    }
  ]
}